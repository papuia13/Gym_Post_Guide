{
 "cells": [
  {
   "cell_type": "code",
   "execution_count": 1,
   "metadata": {},
   "outputs": [
    {
     "name": "stdout",
     "output_type": "stream",
     "text": [
      "Collecting mediapipe\n",
      "  Downloading mediapipe-0.10.14-cp311-cp311-win_amd64.whl.metadata (9.9 kB)\n",
      "Collecting opencv-python\n",
      "  Downloading opencv_python-4.10.0.84-cp37-abi3-win_amd64.whl.metadata (20 kB)\n",
      "Collecting absl-py (from mediapipe)\n",
      "  Using cached absl_py-2.1.0-py3-none-any.whl.metadata (2.3 kB)\n",
      "Requirement already satisfied: attrs>=19.1.0 in c:\\users\\fakaf\\appdata\\local\\programs\\python\\python311\\lib\\site-packages (from mediapipe) (23.2.0)\n",
      "Collecting flatbuffers>=2.0 (from mediapipe)\n",
      "  Using cached flatbuffers-24.3.25-py2.py3-none-any.whl.metadata (850 bytes)\n",
      "Collecting jax (from mediapipe)\n",
      "  Downloading jax-0.4.34-py3-none-any.whl.metadata (22 kB)\n",
      "Collecting jaxlib (from mediapipe)\n",
      "  Downloading jaxlib-0.4.34-cp311-cp311-win_amd64.whl.metadata (1.0 kB)\n",
      "Requirement already satisfied: matplotlib in c:\\users\\fakaf\\appdata\\local\\programs\\python\\python311\\lib\\site-packages (from mediapipe) (3.8.3)\n",
      "Requirement already satisfied: numpy in c:\\users\\fakaf\\appdata\\local\\programs\\python\\python311\\lib\\site-packages (from mediapipe) (1.26.1)\n",
      "Collecting opencv-contrib-python (from mediapipe)\n",
      "  Downloading opencv_contrib_python-4.10.0.84-cp37-abi3-win_amd64.whl.metadata (20 kB)\n",
      "Collecting protobuf<5,>=4.25.3 (from mediapipe)\n",
      "  Downloading protobuf-4.25.5-cp310-abi3-win_amd64.whl.metadata (541 bytes)\n",
      "Collecting sounddevice>=0.4.4 (from mediapipe)\n",
      "  Downloading sounddevice-0.5.1-py3-none-win_amd64.whl.metadata (1.4 kB)\n",
      "Requirement already satisfied: CFFI>=1.0 in c:\\users\\fakaf\\appdata\\local\\programs\\python\\python311\\lib\\site-packages (from sounddevice>=0.4.4->mediapipe) (1.16.0)\n",
      "Collecting ml-dtypes>=0.2.0 (from jax->mediapipe)\n",
      "  Downloading ml_dtypes-0.5.0-cp311-cp311-win_amd64.whl.metadata (22 kB)\n",
      "Collecting opt-einsum (from jax->mediapipe)\n",
      "  Downloading opt_einsum-3.4.0-py3-none-any.whl.metadata (6.3 kB)\n",
      "Requirement already satisfied: scipy>=1.10 in c:\\users\\fakaf\\appdata\\local\\programs\\python\\python311\\lib\\site-packages (from jax->mediapipe) (1.11.3)\n",
      "Requirement already satisfied: contourpy>=1.0.1 in c:\\users\\fakaf\\appdata\\local\\programs\\python\\python311\\lib\\site-packages (from matplotlib->mediapipe) (1.2.0)\n",
      "Requirement already satisfied: cycler>=0.10 in c:\\users\\fakaf\\appdata\\local\\programs\\python\\python311\\lib\\site-packages (from matplotlib->mediapipe) (0.12.1)\n",
      "Requirement already satisfied: fonttools>=4.22.0 in c:\\users\\fakaf\\appdata\\local\\programs\\python\\python311\\lib\\site-packages (from matplotlib->mediapipe) (4.49.0)\n",
      "Requirement already satisfied: kiwisolver>=1.3.1 in c:\\users\\fakaf\\appdata\\local\\programs\\python\\python311\\lib\\site-packages (from matplotlib->mediapipe) (1.4.5)\n",
      "Requirement already satisfied: packaging>=20.0 in c:\\users\\fakaf\\appdata\\local\\programs\\python\\python311\\lib\\site-packages (from matplotlib->mediapipe) (23.2)\n",
      "Requirement already satisfied: pillow>=8 in c:\\users\\fakaf\\appdata\\local\\programs\\python\\python311\\lib\\site-packages (from matplotlib->mediapipe) (9.5.0)\n",
      "Requirement already satisfied: pyparsing>=2.3.1 in c:\\users\\fakaf\\appdata\\local\\programs\\python\\python311\\lib\\site-packages (from matplotlib->mediapipe) (3.1.1)\n",
      "Requirement already satisfied: python-dateutil>=2.7 in c:\\users\\fakaf\\appdata\\local\\programs\\python\\python311\\lib\\site-packages (from matplotlib->mediapipe) (2.8.2)\n",
      "Requirement already satisfied: pycparser in c:\\users\\fakaf\\appdata\\local\\programs\\python\\python311\\lib\\site-packages (from CFFI>=1.0->sounddevice>=0.4.4->mediapipe) (2.21)\n",
      "Requirement already satisfied: six>=1.5 in c:\\users\\fakaf\\appdata\\local\\programs\\python\\python311\\lib\\site-packages (from python-dateutil>=2.7->matplotlib->mediapipe) (1.16.0)\n",
      "Downloading mediapipe-0.10.14-cp311-cp311-win_amd64.whl (50.8 MB)\n",
      "   ---------------------------------------- 0.0/50.8 MB ? eta -:--:--\n",
      "   - -------------------------------------- 1.8/50.8 MB 12.6 MB/s eta 0:00:04\n",
      "   ----- ---------------------------------- 7.1/50.8 MB 21.8 MB/s eta 0:00:03\n",
      "   --------- ------------------------------ 12.1/50.8 MB 22.2 MB/s eta 0:00:02\n",
      "   -------------- ------------------------- 17.8/50.8 MB 23.9 MB/s eta 0:00:02\n",
      "   ------------------ --------------------- 23.3/50.8 MB 24.2 MB/s eta 0:00:02\n",
      "   --------------------- ------------------ 27.3/50.8 MB 24.0 MB/s eta 0:00:01\n",
      "   --------------------- ------------------ 27.3/50.8 MB 24.0 MB/s eta 0:00:01\n",
      "   ------------------------- -------------- 32.2/50.8 MB 21.1 MB/s eta 0:00:01\n",
      "   ---------------------------- ----------- 36.2/50.8 MB 20.2 MB/s eta 0:00:01\n",
      "   ------------------------------ --------- 38.8/50.8 MB 19.3 MB/s eta 0:00:01\n",
      "   -------------------------------- ------- 41.2/50.8 MB 18.7 MB/s eta 0:00:01\n",
      "   ---------------------------------- ----- 43.8/50.8 MB 18.1 MB/s eta 0:00:01\n",
      "   ------------------------------------ --- 46.4/50.8 MB 17.6 MB/s eta 0:00:01\n",
      "   ------------------------------------- -- 48.2/50.8 MB 17.3 MB/s eta 0:00:01\n",
      "   ---------------------------------------  50.6/50.8 MB 17.0 MB/s eta 0:00:01\n",
      "   ---------------------------------------- 50.8/50.8 MB 16.5 MB/s eta 0:00:00\n",
      "Downloading opencv_python-4.10.0.84-cp37-abi3-win_amd64.whl (38.8 MB)\n",
      "   ---------------------------------------- 0.0/38.8 MB ? eta -:--:--\n",
      "   -- ------------------------------------- 2.1/38.8 MB 9.8 MB/s eta 0:00:04\n",
      "   ----- ---------------------------------- 5.0/38.8 MB 12.6 MB/s eta 0:00:03\n",
      "   ------- -------------------------------- 7.6/38.8 MB 12.4 MB/s eta 0:00:03\n",
      "   ---------- ----------------------------- 10.0/38.8 MB 11.9 MB/s eta 0:00:03\n",
      "   ------------- -------------------------- 13.1/38.8 MB 12.6 MB/s eta 0:00:03\n",
      "   ---------------- ----------------------- 16.3/38.8 MB 13.1 MB/s eta 0:00:02\n",
      "   -------------------- ------------------- 20.2/38.8 MB 13.7 MB/s eta 0:00:02\n",
      "   ----------------------- ---------------- 22.8/38.8 MB 13.7 MB/s eta 0:00:02\n",
      "   ------------------------- -------------- 25.2/38.8 MB 13.4 MB/s eta 0:00:02\n",
      "   ----------------------------- ---------- 28.8/38.8 MB 13.6 MB/s eta 0:00:01\n",
      "   -------------------------------- ------- 31.5/38.8 MB 13.6 MB/s eta 0:00:01\n",
      "   ----------------------------------- ---- 34.1/38.8 MB 13.4 MB/s eta 0:00:01\n",
      "   ------------------------------------- -- 36.4/38.8 MB 13.4 MB/s eta 0:00:01\n",
      "   ---------------------------------------  38.8/38.8 MB 13.3 MB/s eta 0:00:01\n",
      "   ---------------------------------------- 38.8/38.8 MB 13.1 MB/s eta 0:00:00\n",
      "Using cached flatbuffers-24.3.25-py2.py3-none-any.whl (26 kB)\n",
      "Downloading protobuf-4.25.5-cp310-abi3-win_amd64.whl (413 kB)\n",
      "Downloading sounddevice-0.5.1-py3-none-win_amd64.whl (363 kB)\n",
      "Using cached absl_py-2.1.0-py3-none-any.whl (133 kB)\n",
      "Downloading jax-0.4.34-py3-none-any.whl (2.1 MB)\n",
      "   ---------------------------------------- 0.0/2.1 MB ? eta -:--:--\n",
      "   ---------------------------------------- 2.1/2.1 MB 12.0 MB/s eta 0:00:00\n",
      "Downloading jaxlib-0.4.34-cp311-cp311-win_amd64.whl (55.2 MB)\n",
      "   ---------------------------------------- 0.0/55.2 MB ? eta -:--:--\n",
      "   - -------------------------------------- 2.4/55.2 MB 12.2 MB/s eta 0:00:05\n",
      "   --- ------------------------------------ 5.0/55.2 MB 12.1 MB/s eta 0:00:05\n",
      "   ----- ---------------------------------- 7.6/55.2 MB 12.4 MB/s eta 0:00:04\n",
      "   ------- -------------------------------- 10.2/55.2 MB 12.3 MB/s eta 0:00:04\n",
      "   --------- ------------------------------ 13.4/55.2 MB 12.9 MB/s eta 0:00:04\n",
      "   ----------- ---------------------------- 16.5/55.2 MB 13.5 MB/s eta 0:00:03\n",
      "   --------------- ------------------------ 21.0/55.2 MB 14.4 MB/s eta 0:00:03\n",
      "   ----------------- ---------------------- 23.9/55.2 MB 15.1 MB/s eta 0:00:03\n",
      "   ------------------ --------------------- 25.7/55.2 MB 14.2 MB/s eta 0:00:03\n",
      "   -------------------- ------------------- 28.3/55.2 MB 13.6 MB/s eta 0:00:02\n",
      "   ----------------------- ---------------- 32.0/55.2 MB 14.0 MB/s eta 0:00:02\n",
      "   ------------------------ --------------- 34.1/55.2 MB 13.7 MB/s eta 0:00:02\n",
      "   -------------------------- ------------- 35.9/55.2 MB 13.5 MB/s eta 0:00:02\n",
      "   --------------------------- ------------ 38.0/55.2 MB 13.2 MB/s eta 0:00:02\n",
      "   ----------------------------- ---------- 40.6/55.2 MB 13.0 MB/s eta 0:00:02\n",
      "   ------------------------------- -------- 43.0/55.2 MB 13.0 MB/s eta 0:00:01\n",
      "   -------------------------------- ------- 45.1/55.2 MB 12.8 MB/s eta 0:00:01\n",
      "   ---------------------------------- ----- 47.4/55.2 MB 12.7 MB/s eta 0:00:01\n",
      "   ----------------------------------- ---- 49.5/55.2 MB 12.6 MB/s eta 0:00:01\n",
      "   ------------------------------------- -- 51.6/55.2 MB 12.6 MB/s eta 0:00:01\n",
      "   ---------------------------------------  54.5/55.2 MB 12.5 MB/s eta 0:00:01\n",
      "   ---------------------------------------- 55.2/55.2 MB 12.3 MB/s eta 0:00:00\n",
      "Downloading opencv_contrib_python-4.10.0.84-cp37-abi3-win_amd64.whl (45.5 MB)\n",
      "   ---------------------------------------- 0.0/45.5 MB ? eta -:--:--\n",
      "   -- ------------------------------------- 3.1/45.5 MB 16.8 MB/s eta 0:00:03\n",
      "   ------ --------------------------------- 7.1/45.5 MB 18.2 MB/s eta 0:00:03\n",
      "   --------- ------------------------------ 11.0/45.5 MB 18.6 MB/s eta 0:00:02\n",
      "   ------------- -------------------------- 15.2/45.5 MB 19.9 MB/s eta 0:00:02\n",
      "   -------------- ------------------------- 16.5/45.5 MB 16.5 MB/s eta 0:00:02\n",
      "   ----------------- ---------------------- 19.4/45.5 MB 15.9 MB/s eta 0:00:02\n",
      "   -------------------- ------------------- 23.1/45.5 MB 16.2 MB/s eta 0:00:02\n",
      "   ---------------------- ----------------- 25.4/45.5 MB 15.5 MB/s eta 0:00:02\n",
      "   ------------------------ --------------- 27.8/45.5 MB 15.2 MB/s eta 0:00:02\n",
      "   -------------------------- ------------- 30.1/45.5 MB 14.8 MB/s eta 0:00:02\n",
      "   ---------------------------- ----------- 32.5/45.5 MB 14.5 MB/s eta 0:00:01\n",
      "   ------------------------------ --------- 35.1/45.5 MB 14.2 MB/s eta 0:00:01\n",
      "   -------------------------------- ------- 37.5/45.5 MB 14.0 MB/s eta 0:00:01\n",
      "   ---------------------------------- ----- 39.6/45.5 MB 13.9 MB/s eta 0:00:01\n",
      "   ------------------------------------- -- 42.2/45.5 MB 13.7 MB/s eta 0:00:01\n",
      "   ---------------------------------------  44.6/45.5 MB 13.6 MB/s eta 0:00:01\n",
      "   ---------------------------------------  45.4/45.5 MB 13.5 MB/s eta 0:00:01\n",
      "   ---------------------------------------- 45.5/45.5 MB 12.9 MB/s eta 0:00:00\n",
      "Downloading ml_dtypes-0.5.0-cp311-cp311-win_amd64.whl (211 kB)\n",
      "Downloading opt_einsum-3.4.0-py3-none-any.whl (71 kB)\n",
      "Installing collected packages: flatbuffers, protobuf, opt-einsum, opencv-python, opencv-contrib-python, ml-dtypes, absl-py, sounddevice, jaxlib, jax, mediapipe\n",
      "Successfully installed absl-py-2.1.0 flatbuffers-24.3.25 jax-0.4.34 jaxlib-0.4.34 mediapipe-0.10.14 ml-dtypes-0.5.0 opencv-contrib-python-4.10.0.84 opencv-python-4.10.0.84 opt-einsum-3.4.0 protobuf-4.25.5 sounddevice-0.5.1\n",
      "Note: you may need to restart the kernel to use updated packages.\n"
     ]
    },
    {
     "name": "stderr",
     "output_type": "stream",
     "text": [
      "WARNING: Ignoring invalid distribution ~illow (c:\\Users\\fakaf\\AppData\\Local\\Programs\\Python\\Python311\\Lib\\site-packages)\n",
      "WARNING: Ignoring invalid distribution ~illow (c:\\Users\\fakaf\\AppData\\Local\\Programs\\Python\\Python311\\Lib\\site-packages)\n",
      "WARNING: Ignoring invalid distribution ~illow (c:\\Users\\fakaf\\AppData\\Local\\Programs\\Python\\Python311\\Lib\\site-packages)\n"
     ]
    }
   ],
   "source": [
    "%pip install mediapipe opencv-python"
   ]
  },
  {
   "cell_type": "code",
   "execution_count": 2,
   "metadata": {},
   "outputs": [],
   "source": [
    "import cv2\n",
    "import mediapipe as mp\n",
    "import numpy as np\n",
    "mp_drawing = mp.solutions.drawing_utils\n",
    "mp_pose = mp.solutions.pose"
   ]
  },
  {
   "cell_type": "code",
   "execution_count": 33,
   "metadata": {},
   "outputs": [],
   "source": [
    "cap = cv2.VideoCapture(0)\n",
    "while cap.isOpened():\n",
    "    ret, frame = cap.read()\n",
    "    cv2.imshow('Mediapipe Feed',frame)\n",
    "    \n",
    "    if cv2.waitKey(10) & 0xFF == ord('q'):\n",
    "        break\n",
    "cap.release()\n",
    "cv2.destroyAllWindows()"
   ]
  },
  {
   "cell_type": "markdown",
   "metadata": {},
   "source": [
    "making a detection: "
   ]
  },
  {
   "cell_type": "code",
   "execution_count": 3,
   "metadata": {},
   "outputs": [
    {
     "name": "stderr",
     "output_type": "stream",
     "text": [
      "t:\\MCA\\3rd_Sem\\ECP\\Gym_Action_Tracker\\.venv\\lib\\site-packages\\google\\protobuf\\symbol_database.py:55: UserWarning: SymbolDatabase.GetPrototype() is deprecated. Please use message_factory.GetMessageClass() instead. SymbolDatabase.GetPrototype() will be removed soon.\n",
      "  warnings.warn('SymbolDatabase.GetPrototype() is deprecated. Please '\n"
     ]
    }
   ],
   "source": [
    "cap = cv2.VideoCapture(0)\n",
    "with mp_pose.Pose(min_detection_confidence=0.5, min_tracking_confidence=0.5) as pose:\n",
    "    \n",
    "    while cap.isOpened():\n",
    "        ret, frame = cap.read()\n",
    "        #chainging the image format from cv2 to mediapipe\n",
    "        image = cv2.cvtColor(frame, cv2.COLOR_BGR2RGB)\n",
    "        image.flags.writeable = False\n",
    "        # this is the actual result process without rendering \n",
    "        result = pose.process(image)\n",
    "        \n",
    "        image.flags.writeable = True\n",
    "        image = cv2.cvtColor(image, cv2.COLOR_RGB2BGR)\n",
    "        \n",
    "        #rendering detection\n",
    "        mp_drawing.draw_landmarks(image, result.pose_landmarks, mp_pose.POSE_CONNECTIONS,\n",
    "                                  mp_drawing.DrawingSpec(color=(245,117,66), thickness=2, circle_radius=2),\n",
    "                                  mp_drawing.DrawingSpec(color=(245,66,230), thickness=2, circle_radius=2))\n",
    "        \n",
    "        if ret:\n",
    "            # Resize the frame to a desired width and height (e.g., 640x480)\n",
    "            resized_frame = cv2.resize(image, (1280, 720))\n",
    "            \n",
    "            # Display the resized frame\n",
    "            cv2.imshow('Mediapipe Feed', resized_frame)\n",
    "        \n",
    "        if cv2.waitKey(10) & 0xFF == ord('q'):\n",
    "            break\n",
    "\n",
    "    cap.release()\n",
    "    cv2.destroyAllWindows()"
   ]
  },
  {
   "cell_type": "code",
   "execution_count": null,
   "metadata": {},
   "outputs": [],
   "source": [
    "mp_drawing.DrawingSpec??"
   ]
  },
  {
   "cell_type": "markdown",
   "metadata": {},
   "source": [
    "extracting landmarks"
   ]
  },
  {
   "cell_type": "code",
   "execution_count": null,
   "metadata": {},
   "outputs": [],
   "source": [
    "cap = cv2.VideoCapture(0)\n",
    "with mp_pose.Pose(min_detection_confidence=0.5, min_tracking_confidence=0.5) as pose:\n",
    "    \n",
    "    while cap.isOpened():\n",
    "        ret, frame = cap.read()\n",
    "        #chainging the image format from cv2 to mediapipe\n",
    "        image = cv2.cvtColor(frame, cv2.COLOR_BGR2RGB)\n",
    "        image.flags.writeable = False\n",
    "        # this is the actual result process without rendering \n",
    "        result = pose.process(image)\n",
    "        \n",
    "        image.flags.writeable = True\n",
    "        image = cv2.cvtColor(image, cv2.COLOR_RGB2BGR)\n",
    "        \n",
    "        #Exttract Landmarks\n",
    "        try:\n",
    "            landmarks = result.pose_landmarks.landmark\n",
    "            print(landmarks)\n",
    "        except:\n",
    "            pass\n",
    "        \n",
    "        #rendering detection\n",
    "        mp_drawing.draw_landmarks(image, result.pose_landmarks, mp_pose.POSE_CONNECTIONS,\n",
    "                                  mp_drawing.DrawingSpec(color=(245,117,66), thickness=2, circle_radius=2),\n",
    "                                  mp_drawing.DrawingSpec(color=(245,66,230), thickness=2, circle_radius=2))\n",
    "        \n",
    "        if ret:\n",
    "            # Resize the frame to a desired width and height (e.g., 640x480)\n",
    "            resized_frame = cv2.resize(image, (1280, 720))\n",
    "            \n",
    "            # Display the resized frame\n",
    "            cv2.imshow('Mediapipe Feed', resized_frame)\n",
    "        \n",
    "        if cv2.waitKey(10) & 0xFF == ord('q'):\n",
    "            break\n",
    "\n",
    "    cap.release()\n",
    "    cv2.destroyAllWindows()"
   ]
  },
  {
   "cell_type": "code",
   "execution_count": 13,
   "metadata": {},
   "outputs": [
    {
     "data": {
      "text/plain": [
       "[x: 0.611908793\n",
       "y: 0.418638676\n",
       "z: -0.833564579\n",
       "visibility: 0.999932289\n",
       ", x: 0.637933373\n",
       "y: 0.365946651\n",
       "z: -0.76910305\n",
       "visibility: 0.999878347\n",
       ", x: 0.655881047\n",
       "y: 0.370914429\n",
       "z: -0.768946111\n",
       "visibility: 0.999876142\n",
       ", x: 0.671414256\n",
       "y: 0.375649661\n",
       "z: -0.769129097\n",
       "visibility: 0.999847591\n",
       ", x: 0.586400926\n",
       "y: 0.355676591\n",
       "z: -0.784333\n",
       "visibility: 0.999906123\n",
       ", x: 0.56529969\n",
       "y: 0.353578478\n",
       "z: -0.783562064\n",
       "visibility: 0.999921\n",
       ", x: 0.544751048\n",
       "y: 0.351814687\n",
       "z: -0.783684313\n",
       "visibility: 0.999919474\n",
       ", x: 0.689548373\n",
       "y: 0.411131948\n",
       "z: -0.378905475\n",
       "visibility: 0.999822378\n",
       ", x: 0.509776235\n",
       "y: 0.382590234\n",
       "z: -0.443423092\n",
       "visibility: 0.999943256\n",
       ", x: 0.636774838\n",
       "y: 0.493268132\n",
       "z: -0.696253419\n",
       "visibility: 0.999924421\n",
       ", x: 0.56802\n",
       "y: 0.485847116\n",
       "z: -0.711595595\n",
       "visibility: 0.999957\n",
       ", x: 0.792267323\n",
       "y: 0.761455476\n",
       "z: -0.214891389\n",
       "visibility: 0.998615086\n",
       ", x: 0.355902016\n",
       "y: 0.764142096\n",
       "z: -0.364276886\n",
       "visibility: 0.999184489\n",
       ", x: 0.895346761\n",
       "y: 1.05181873\n",
       "z: -0.211958438\n",
       "visibility: 0.288305074\n",
       ", x: 0.252834827\n",
       "y: 1.20376933\n",
       "z: -0.395382613\n",
       "visibility: 0.554806232\n",
       ", x: 0.958512962\n",
       "y: 1.52046156\n",
       "z: -0.460016549\n",
       "visibility: 0.15000844\n",
       ", x: 0.20326212\n",
       "y: 1.5202229\n",
       "z: -0.872821152\n",
       "visibility: 0.331741363\n",
       ", x: 0.99957931\n",
       "y: 1.63241327\n",
       "z: -0.558738112\n",
       "visibility: 0.163207158\n",
       ", x: 0.15888235\n",
       "y: 1.61990583\n",
       "z: -0.994139373\n",
       "visibility: 0.319090337\n",
       ", x: 0.955322444\n",
       "y: 1.64209473\n",
       "z: -0.623376\n",
       "visibility: 0.199923784\n",
       ", x: 0.204925701\n",
       "y: 1.62833107\n",
       "z: -1.09733415\n",
       "visibility: 0.377951682\n",
       ", x: 0.929406345\n",
       "y: 1.60124528\n",
       "z: -0.506430268\n",
       "visibility: 0.193364099\n",
       ", x: 0.231572434\n",
       "y: 1.58866382\n",
       "z: -0.933315098\n",
       "visibility: 0.356207818\n",
       ", x: 0.720554411\n",
       "y: 1.56990385\n",
       "z: -0.0311260018\n",
       "visibility: 0.00187347806\n",
       ", x: 0.427865356\n",
       "y: 1.57984853\n",
       "z: 0.0359107777\n",
       "visibility: 0.00165026868\n",
       ", x: 0.710968614\n",
       "y: 2.22556067\n",
       "z: -0.00239280285\n",
       "visibility: 0.00184049387\n",
       ", x: 0.440161139\n",
       "y: 2.23670697\n",
       "z: 0.0782961175\n",
       "visibility: 0.000635185163\n",
       ", x: 0.716846704\n",
       "y: 2.82891035\n",
       "z: 0.617350698\n",
       "visibility: 0.000266301155\n",
       ", x: 0.454321384\n",
       "y: 2.82145905\n",
       "z: 0.500904679\n",
       "visibility: 3.90832683e-005\n",
       ", x: 0.718282044\n",
       "y: 2.92675138\n",
       "z: 0.646919072\n",
       "visibility: 0.00018623058\n",
       ", x: 0.449452162\n",
       "y: 2.91695428\n",
       "z: 0.526740909\n",
       "visibility: 7.80737828e-005\n",
       ", x: 0.68449837\n",
       "y: 3.00565696\n",
       "z: 0.116446689\n",
       "visibility: 0.00032725872\n",
       ", x: 0.493877709\n",
       "y: 2.98763323\n",
       "z: -0.0737371072\n",
       "visibility: 0.000151633634\n",
       "]"
      ]
     },
     "execution_count": 13,
     "metadata": {},
     "output_type": "execute_result"
    }
   ],
   "source": [
    "landmarks"
   ]
  },
  {
   "cell_type": "code",
   "execution_count": null,
   "metadata": {},
   "outputs": [],
   "source": [
    "for lndmrk in mp_pose.PoseLandmark:\n",
    "    print(lndmrk)"
   ]
  },
  {
   "cell_type": "code",
   "execution_count": 19,
   "metadata": {},
   "outputs": [
    {
     "data": {
      "text/plain": [
       "x: 0.792267323\n",
       "y: 0.761455476\n",
       "z: -0.214891389\n",
       "visibility: 0.998615086"
      ]
     },
     "execution_count": 19,
     "metadata": {},
     "output_type": "execute_result"
    }
   ],
   "source": [
    "landmarks[mp_pose.PoseLandmark.LEFT_SHOULDER.value]"
   ]
  },
  {
   "cell_type": "code",
   "execution_count": 18,
   "metadata": {},
   "outputs": [
    {
     "data": {
      "text/plain": [
       "x: 0.895346761\n",
       "y: 1.05181873\n",
       "z: -0.211958438\n",
       "visibility: 0.288305074"
      ]
     },
     "execution_count": 18,
     "metadata": {},
     "output_type": "execute_result"
    }
   ],
   "source": [
    "landmarks[mp_pose.PoseLandmark.LEFT_ELBOW.value]"
   ]
  },
  {
   "cell_type": "code",
   "execution_count": 17,
   "metadata": {},
   "outputs": [
    {
     "data": {
      "text/plain": [
       "x: 0.958512962\n",
       "y: 1.52046156\n",
       "z: -0.460016549\n",
       "visibility: 0.15000844"
      ]
     },
     "execution_count": 17,
     "metadata": {},
     "output_type": "execute_result"
    }
   ],
   "source": [
    "landmarks[mp_pose.PoseLandmark.LEFT_WRIST.value]"
   ]
  },
  {
   "cell_type": "markdown",
   "metadata": {},
   "source": [
    "CALCULATING ANGLES:"
   ]
  },
  {
   "cell_type": "code",
   "execution_count": 20,
   "metadata": {},
   "outputs": [],
   "source": [
    "def calculate_angle(a,b,c):\n",
    "    a = np.array(a)\n",
    "    b = np.array(b)\n",
    "    c = np.array(c)\n",
    "    \n",
    "    radians = np.arctan2(c[1]-b[1], c[0]-b[0]) - np.arctan2(a[1]-b[1], a[0]-b[0])\n",
    "    angle = np.abs(radians*180.0/np.pi)\n",
    "    \n",
    "    if angle > 180.0:\n",
    "        angle = 360-angle\n",
    "    \n",
    "    return angle"
   ]
  },
  {
   "cell_type": "code",
   "execution_count": 21,
   "metadata": {},
   "outputs": [],
   "source": [
    "shoulder = [landmarks[mp_pose.PoseLandmark.LEFT_SHOULDER.value].x,landmarks[mp_pose.PoseLandmark.LEFT_SHOULDER.value].y]\n",
    "elbow = [landmarks[mp_pose.PoseLandmark.LEFT_ELBOW.value].x,landmarks[mp_pose.PoseLandmark.LEFT_ELBOW.value].y]\n",
    "wrist = [landmarks[mp_pose.PoseLandmark.LEFT_WRIST.value].x,landmarks[mp_pose.PoseLandmark.LEFT_WRIST.value].y]"
   ]
  },
  {
   "cell_type": "code",
   "execution_count": 22,
   "metadata": {},
   "outputs": [
    {
     "data": {
      "text/plain": [
       "([0.7922673225402832, 0.7614554762840271],\n",
       " [0.8953467607498169, 1.0518187284469604],\n",
       " [0.9585129618644714, 1.5204615592956543])"
      ]
     },
     "execution_count": 22,
     "metadata": {},
     "output_type": "execute_result"
    }
   ],
   "source": [
    "shoulder,elbow,wrist"
   ]
  },
  {
   "cell_type": "code",
   "execution_count": null,
   "metadata": {},
   "outputs": [],
   "source": [
    "calculate_angle(shoulder, elbow, wrist)"
   ]
  },
  {
   "cell_type": "markdown",
   "metadata": {},
   "source": [
    "realTime Calculation: "
   ]
  },
  {
   "cell_type": "code",
   "execution_count": 26,
   "metadata": {},
   "outputs": [
    {
     "name": "stderr",
     "output_type": "stream",
     "text": [
      "t:\\MCA\\3rd_Sem\\ECP\\Gym_Action_Tracker\\.venv\\lib\\site-packages\\google\\protobuf\\symbol_database.py:55: UserWarning: SymbolDatabase.GetPrototype() is deprecated. Please use message_factory.GetMessageClass() instead. SymbolDatabase.GetPrototype() will be removed soon.\n",
      "  warnings.warn('SymbolDatabase.GetPrototype() is deprecated. Please '\n"
     ]
    }
   ],
   "source": [
    "cap = cv2.VideoCapture(0)\n",
    "with mp_pose.Pose(min_detection_confidence=0.5, min_tracking_confidence=0.5) as pose:\n",
    "    \n",
    "    while cap.isOpened():\n",
    "        ret, frame = cap.read()\n",
    "        #chainging the image format from cv2 to mediapipe\n",
    "        image = cv2.cvtColor(frame, cv2.COLOR_BGR2RGB)\n",
    "        image.flags.writeable = False\n",
    "        # this is the actual result process without rendering \n",
    "        result = pose.process(image)\n",
    "        \n",
    "        image.flags.writeable = True\n",
    "        image = cv2.cvtColor(image, cv2.COLOR_RGB2BGR)\n",
    "        \n",
    "        # Extract landmarks\n",
    "        try:\n",
    "            landmarks = result.pose_landmarks.landmark\n",
    "            \n",
    "            # Get coordinates\n",
    "            shoulder = [landmarks[mp_pose.PoseLandmark.RIGHT_SHOULDER.value].x,landmarks[mp_pose.PoseLandmark.RIGHT_SHOULDER.value].y]\n",
    "            elbow = [landmarks[mp_pose.PoseLandmark.RIGHT_ELBOW.value].x,landmarks[mp_pose.PoseLandmark.RIGHT_ELBOW.value].y]\n",
    "            wrist = [landmarks[mp_pose.PoseLandmark.RIGHT_WRIST.value].x,landmarks[mp_pose.PoseLandmark.RIGHT_WRIST.value].y]\n",
    "            \n",
    "            # Calculate angle\n",
    "            angle = calculate_angle(shoulder, elbow, wrist)\n",
    "            \n",
    "            # Visualize angle\n",
    "            cv2.putText(image, str(angle), \n",
    "                           tuple(np.multiply(elbow, [640, 480]).astype(int)), \n",
    "                           cv2.FONT_HERSHEY_SIMPLEX, 0.5, (255, 255, 255), 2, cv2.LINE_AA\n",
    "                                )\n",
    "                       \n",
    "        except:\n",
    "            pass\n",
    "        \n",
    "        #rendering detection\n",
    "        mp_drawing.draw_landmarks(image, result.pose_landmarks, mp_pose.POSE_CONNECTIONS,\n",
    "                                  mp_drawing.DrawingSpec(color=(245,117,66), thickness=2, circle_radius=2),\n",
    "                                  mp_drawing.DrawingSpec(color=(245,66,230), thickness=2, circle_radius=2))\n",
    "        \n",
    "        if ret:\n",
    "            # Resize the frame to a desired width and height (e.g., 640x480)\n",
    "            resized_frame = cv2.resize(image, (1280, 720))\n",
    "            \n",
    "            # Display the resized frame\n",
    "            cv2.imshow('Mediapipe Feed', resized_frame)\n",
    "        \n",
    "        if cv2.waitKey(10) & 0xFF == ord('q'):\n",
    "            break\n",
    "\n",
    "    cap.release()\n",
    "    cv2.destroyAllWindows()"
   ]
  },
  {
   "cell_type": "markdown",
   "metadata": {},
   "source": [
    "Curl Counter"
   ]
  },
  {
   "cell_type": "code",
   "execution_count": 32,
   "metadata": {},
   "outputs": [
    {
     "name": "stdout",
     "output_type": "stream",
     "text": [
      "1\n",
      "2\n",
      "3\n",
      "4\n",
      "5\n",
      "6\n",
      "7\n"
     ]
    }
   ],
   "source": [
    "cap = cv2.VideoCapture(0)\n",
    "\n",
    "# Curl counter variables\n",
    "counter = 0 \n",
    "stage = None\n",
    "\n",
    "with mp_pose.Pose(min_detection_confidence=0.5, min_tracking_confidence=0.5) as pose:\n",
    "    \n",
    "    while cap.isOpened():\n",
    "        ret, frame = cap.read()\n",
    "        #chainging the image format from cv2 to mediapipe\n",
    "        image = cv2.cvtColor(frame, cv2.COLOR_BGR2RGB)\n",
    "        image.flags.writeable = False\n",
    "        # this is the actual result process without rendering \n",
    "        result = pose.process(image)\n",
    "        \n",
    "        image.flags.writeable = True\n",
    "        image = cv2.cvtColor(image, cv2.COLOR_RGB2BGR)\n",
    "        \n",
    "        # Extract landmarks\n",
    "        try:\n",
    "            landmarks = result.pose_landmarks.landmark\n",
    "            \n",
    "            # Get coordinates\n",
    "            shoulder = [landmarks[mp_pose.PoseLandmark.RIGHT_SHOULDER.value].x,landmarks[mp_pose.PoseLandmark.RIGHT_SHOULDER.value].y]\n",
    "            elbow = [landmarks[mp_pose.PoseLandmark.RIGHT_ELBOW.value].x,landmarks[mp_pose.PoseLandmark.RIGHT_ELBOW.value].y]\n",
    "            wrist = [landmarks[mp_pose.PoseLandmark.RIGHT_WRIST.value].x,landmarks[mp_pose.PoseLandmark.RIGHT_WRIST.value].y]\n",
    "            \n",
    "            # Calculate angle\n",
    "            angle = calculate_angle(shoulder, elbow, wrist)\n",
    "            \n",
    "            # Visualize angle\n",
    "            cv2.putText(image, str(angle), \n",
    "                           tuple(np.multiply(elbow, [640, 480]).astype(int)), \n",
    "                           cv2.FONT_HERSHEY_SIMPLEX, 0.5, (255, 255, 255), 2, cv2.LINE_AA\n",
    "                                )\n",
    "             # Curl counter logic\n",
    "            if angle > 160:\n",
    "                stage = \"down\"\n",
    "            if angle < 40 and stage =='down':\n",
    "                stage=\"up\"\n",
    "                counter +=1\n",
    "                print(counter)\n",
    "                           \n",
    "        except:\n",
    "            pass\n",
    "        \n",
    "        # Render curl counter\n",
    "        # Setup status box\n",
    "        cv2.rectangle(image, (0,0), (225,73), (245,117,16), -1)\n",
    "        \n",
    "        # Rep data\n",
    "        cv2.putText(image, 'REPS', (15,12), \n",
    "                    cv2.FONT_HERSHEY_SIMPLEX, 0.5, (0,0,0), 1, cv2.LINE_AA)\n",
    "        cv2.putText(image, str(counter), \n",
    "                    (10,60), \n",
    "                    cv2.FONT_HERSHEY_SIMPLEX, 2, (255,255,255), 2, cv2.LINE_AA)\n",
    "                \n",
    "        #rendering detection\n",
    "        mp_drawing.draw_landmarks(image, result.pose_landmarks, mp_pose.POSE_CONNECTIONS,\n",
    "                                  mp_drawing.DrawingSpec(color=(245,117,66), thickness=2, circle_radius=2),\n",
    "                                  mp_drawing.DrawingSpec(color=(245,66,230), thickness=2, circle_radius=2))\n",
    "        \n",
    "        # Stage data\n",
    "        cv2.putText(image, 'STAGE', (65,12), \n",
    "                    cv2.FONT_HERSHEY_SIMPLEX, 0.5, (0,0,0), 1, cv2.LINE_AA)\n",
    "        cv2.putText(image, stage, \n",
    "                    (60,60), \n",
    "                    cv2.FONT_HERSHEY_SIMPLEX, 2, (255,255,255), 2, cv2.LINE_AA)\n",
    "        \n",
    "        if ret:\n",
    "            # Resize the frame to a desired width and height (e.g., 640x480)\n",
    "            resized_frame = cv2.resize(image, (1280, 720))\n",
    "            \n",
    "            # Display the resized frame\n",
    "            cv2.imshow('Mediapipe Feed', resized_frame)\n",
    "        \n",
    "        if cv2.waitKey(10) & 0xFF == ord('q'):\n",
    "            break\n",
    "\n",
    "    cap.release()\n",
    "    cv2.destroyAllWindows()"
   ]
  }
 ],
 "metadata": {
  "kernelspec": {
   "display_name": "Python 3",
   "language": "python",
   "name": "python3"
  },
  "language_info": {
   "codemirror_mode": {
    "name": "ipython",
    "version": 3
   },
   "file_extension": ".py",
   "mimetype": "text/x-python",
   "name": "python",
   "nbconvert_exporter": "python",
   "pygments_lexer": "ipython3",
   "version": "3.11.2"
  }
 },
 "nbformat": 4,
 "nbformat_minor": 2
}
